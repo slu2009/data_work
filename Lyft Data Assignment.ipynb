{
 "cells": [
  {
   "cell_type": "code",
   "execution_count": 2,
   "metadata": {
    "collapsed": true
   },
   "outputs": [],
   "source": [
    "import pandas as pd\n",
    "import matplotlib.pyplot as plt\n",
    "import numpy as np\n",
    "import datetime as DT\n",
    "import matplotlib.dates"
   ]
  },
  {
   "cell_type": "code",
   "execution_count": 50,
   "metadata": {},
   "outputs": [
    {
     "data": {
      "text/html": [
       "<div>\n",
       "<style>\n",
       "    .dataframe thead tr:only-child th {\n",
       "        text-align: right;\n",
       "    }\n",
       "\n",
       "    .dataframe thead th {\n",
       "        text-align: left;\n",
       "    }\n",
       "\n",
       "    .dataframe tbody tr th {\n",
       "        vertical-align: top;\n",
       "    }\n",
       "</style>\n",
       "<table border=\"1\" class=\"dataframe\">\n",
       "  <thead>\n",
       "    <tr style=\"text-align: right;\">\n",
       "      <th></th>\n",
       "      <th>driver_id</th>\n",
       "      <th>driver_onboard_date</th>\n",
       "    </tr>\n",
       "  </thead>\n",
       "  <tbody>\n",
       "    <tr>\n",
       "      <th>count</th>\n",
       "      <td>937</td>\n",
       "      <td>937</td>\n",
       "    </tr>\n",
       "    <tr>\n",
       "      <th>unique</th>\n",
       "      <td>937</td>\n",
       "      <td>49</td>\n",
       "    </tr>\n",
       "    <tr>\n",
       "      <th>top</th>\n",
       "      <td>a85adc80be31a10c23b7aaf380e39173</td>\n",
       "      <td>2016-04-05 00:00:00</td>\n",
       "    </tr>\n",
       "    <tr>\n",
       "      <th>freq</th>\n",
       "      <td>1</td>\n",
       "      <td>36</td>\n",
       "    </tr>\n",
       "    <tr>\n",
       "      <th>first</th>\n",
       "      <td>NaN</td>\n",
       "      <td>2016-03-28 00:00:00</td>\n",
       "    </tr>\n",
       "    <tr>\n",
       "      <th>last</th>\n",
       "      <td>NaN</td>\n",
       "      <td>2016-05-15 00:00:00</td>\n",
       "    </tr>\n",
       "  </tbody>\n",
       "</table>\n",
       "</div>"
      ],
      "text/plain": [
       "                               driver_id  driver_onboard_date\n",
       "count                                937                  937\n",
       "unique                               937                   49\n",
       "top     a85adc80be31a10c23b7aaf380e39173  2016-04-05 00:00:00\n",
       "freq                                   1                   36\n",
       "first                                NaN  2016-03-28 00:00:00\n",
       "last                                 NaN  2016-05-15 00:00:00"
      ]
     },
     "execution_count": 50,
     "metadata": {},
     "output_type": "execute_result"
    }
   ],
   "source": [
    "#import driver data from csv\n",
    "driver = pd.read_csv('driver_ids.csv')\n",
    "\n",
    "driver['driver_onboard_date'] = pd.to_datetime(driver['driver_onboard_date'])\n",
    "#check driver data basic summary \n",
    "driver.describe()\n"
   ]
  },
  {
   "cell_type": "code",
   "execution_count": 51,
   "metadata": {},
   "outputs": [
    {
     "data": {
      "text/plain": [
       "driver_id              0\n",
       "driver_onboard_date    0\n",
       "dtype: int64"
      ]
     },
     "execution_count": 51,
     "metadata": {},
     "output_type": "execute_result"
    }
   ],
   "source": [
    "#no missing values\n",
    "driver.isnull().sum()"
   ]
  },
  {
   "cell_type": "code",
   "execution_count": 52,
   "metadata": {},
   "outputs": [
    {
     "ename": "TypeError",
     "evalue": "invalid type promotion",
     "output_type": "error",
     "traceback": [
      "\u001b[0;31m---------------------------------------------------------------------------\u001b[0m",
      "\u001b[0;31mTypeError\u001b[0m                                 Traceback (most recent call last)",
      "\u001b[0;32m<ipython-input-52-23b139c486cd>\u001b[0m in \u001b[0;36m<module>\u001b[0;34m()\u001b[0m\n\u001b[1;32m     12\u001b[0m \u001b[0;34m\u001b[0m\u001b[0m\n\u001b[1;32m     13\u001b[0m \u001b[0mplt\u001b[0m\u001b[0;34m.\u001b[0m\u001b[0mrcParams\u001b[0m\u001b[0;34m[\u001b[0m\u001b[0;34m\"figure.figsize\"\u001b[0m\u001b[0;34m]\u001b[0m \u001b[0;34m=\u001b[0m \u001b[0;34m[\u001b[0m\u001b[0;36m50\u001b[0m\u001b[0;34m,\u001b[0m\u001b[0;36m20\u001b[0m\u001b[0;34m]\u001b[0m\u001b[0;34m\u001b[0m\u001b[0m\n\u001b[0;32m---> 14\u001b[0;31m \u001b[0mplt\u001b[0m\u001b[0;34m.\u001b[0m\u001b[0mhist\u001b[0m\u001b[0;34m(\u001b[0m\u001b[0mdate_objects\u001b[0m\u001b[0;34m,\u001b[0m \u001b[0mbins\u001b[0m\u001b[0;34m=\u001b[0m\u001b[0mdays\u001b[0m\u001b[0;34m+\u001b[0m\u001b[0;36m1\u001b[0m\u001b[0;34m)\u001b[0m\u001b[0;34m\u001b[0m\u001b[0m\n\u001b[0m\u001b[1;32m     15\u001b[0m \u001b[0;34m\u001b[0m\u001b[0m\n\u001b[1;32m     16\u001b[0m \u001b[0mplt\u001b[0m\u001b[0;34m.\u001b[0m\u001b[0mshow\u001b[0m\u001b[0;34m(\u001b[0m\u001b[0;34m)\u001b[0m\u001b[0;34m\u001b[0m\u001b[0m\n",
      "\u001b[0;32m/Users/suzielu/anaconda2/lib/python2.7/site-packages/matplotlib/pyplot.pyc\u001b[0m in \u001b[0;36mhist\u001b[0;34m(x, bins, range, density, weights, cumulative, bottom, histtype, align, orientation, rwidth, log, color, label, stacked, normed, hold, data, **kwargs)\u001b[0m\n\u001b[1;32m   3002\u001b[0m                       \u001b[0mhisttype\u001b[0m\u001b[0;34m=\u001b[0m\u001b[0mhisttype\u001b[0m\u001b[0;34m,\u001b[0m \u001b[0malign\u001b[0m\u001b[0;34m=\u001b[0m\u001b[0malign\u001b[0m\u001b[0;34m,\u001b[0m \u001b[0morientation\u001b[0m\u001b[0;34m=\u001b[0m\u001b[0morientation\u001b[0m\u001b[0;34m,\u001b[0m\u001b[0;34m\u001b[0m\u001b[0m\n\u001b[1;32m   3003\u001b[0m                       \u001b[0mrwidth\u001b[0m\u001b[0;34m=\u001b[0m\u001b[0mrwidth\u001b[0m\u001b[0;34m,\u001b[0m \u001b[0mlog\u001b[0m\u001b[0;34m=\u001b[0m\u001b[0mlog\u001b[0m\u001b[0;34m,\u001b[0m \u001b[0mcolor\u001b[0m\u001b[0;34m=\u001b[0m\u001b[0mcolor\u001b[0m\u001b[0;34m,\u001b[0m \u001b[0mlabel\u001b[0m\u001b[0;34m=\u001b[0m\u001b[0mlabel\u001b[0m\u001b[0;34m,\u001b[0m\u001b[0;34m\u001b[0m\u001b[0m\n\u001b[0;32m-> 3004\u001b[0;31m                       stacked=stacked, normed=normed, data=data, **kwargs)\n\u001b[0m\u001b[1;32m   3005\u001b[0m     \u001b[0;32mfinally\u001b[0m\u001b[0;34m:\u001b[0m\u001b[0;34m\u001b[0m\u001b[0m\n\u001b[1;32m   3006\u001b[0m         \u001b[0max\u001b[0m\u001b[0;34m.\u001b[0m\u001b[0m_hold\u001b[0m \u001b[0;34m=\u001b[0m \u001b[0mwashold\u001b[0m\u001b[0;34m\u001b[0m\u001b[0m\n",
      "\u001b[0;32m/Users/suzielu/anaconda2/lib/python2.7/site-packages/matplotlib/__init__.pyc\u001b[0m in \u001b[0;36minner\u001b[0;34m(ax, *args, **kwargs)\u001b[0m\n\u001b[1;32m   1708\u001b[0m                     warnings.warn(msg % (label_namer, func.__name__),\n\u001b[1;32m   1709\u001b[0m                                   RuntimeWarning, stacklevel=2)\n\u001b[0;32m-> 1710\u001b[0;31m             \u001b[0;32mreturn\u001b[0m \u001b[0mfunc\u001b[0m\u001b[0;34m(\u001b[0m\u001b[0max\u001b[0m\u001b[0;34m,\u001b[0m \u001b[0;34m*\u001b[0m\u001b[0margs\u001b[0m\u001b[0;34m,\u001b[0m \u001b[0;34m**\u001b[0m\u001b[0mkwargs\u001b[0m\u001b[0;34m)\u001b[0m\u001b[0;34m\u001b[0m\u001b[0m\n\u001b[0m\u001b[1;32m   1711\u001b[0m         \u001b[0mpre_doc\u001b[0m \u001b[0;34m=\u001b[0m \u001b[0minner\u001b[0m\u001b[0;34m.\u001b[0m\u001b[0m__doc__\u001b[0m\u001b[0;34m\u001b[0m\u001b[0m\n\u001b[1;32m   1712\u001b[0m         \u001b[0;32mif\u001b[0m \u001b[0mpre_doc\u001b[0m \u001b[0;32mis\u001b[0m \u001b[0mNone\u001b[0m\u001b[0;34m:\u001b[0m\u001b[0;34m\u001b[0m\u001b[0m\n",
      "\u001b[0;32m/Users/suzielu/anaconda2/lib/python2.7/site-packages/matplotlib/axes/_axes.pyc\u001b[0m in \u001b[0;36mhist\u001b[0;34m(***failed resolving arguments***)\u001b[0m\n\u001b[1;32m   6191\u001b[0m             \u001b[0;32mfor\u001b[0m \u001b[0mxi\u001b[0m \u001b[0;32min\u001b[0m \u001b[0mx\u001b[0m\u001b[0;34m:\u001b[0m\u001b[0;34m\u001b[0m\u001b[0m\n\u001b[1;32m   6192\u001b[0m                 \u001b[0;32mif\u001b[0m \u001b[0mlen\u001b[0m\u001b[0;34m(\u001b[0m\u001b[0mxi\u001b[0m\u001b[0;34m)\u001b[0m \u001b[0;34m>\u001b[0m \u001b[0;36m0\u001b[0m\u001b[0;34m:\u001b[0m\u001b[0;34m\u001b[0m\u001b[0m\n\u001b[0;32m-> 6193\u001b[0;31m                     \u001b[0mxmin\u001b[0m \u001b[0;34m=\u001b[0m \u001b[0mmin\u001b[0m\u001b[0;34m(\u001b[0m\u001b[0mxmin\u001b[0m\u001b[0;34m,\u001b[0m \u001b[0mxi\u001b[0m\u001b[0;34m.\u001b[0m\u001b[0mmin\u001b[0m\u001b[0;34m(\u001b[0m\u001b[0;34m)\u001b[0m\u001b[0;34m)\u001b[0m\u001b[0;34m\u001b[0m\u001b[0m\n\u001b[0m\u001b[1;32m   6194\u001b[0m                     \u001b[0mxmax\u001b[0m \u001b[0;34m=\u001b[0m \u001b[0mmax\u001b[0m\u001b[0;34m(\u001b[0m\u001b[0mxmax\u001b[0m\u001b[0;34m,\u001b[0m \u001b[0mxi\u001b[0m\u001b[0;34m.\u001b[0m\u001b[0mmax\u001b[0m\u001b[0;34m(\u001b[0m\u001b[0;34m)\u001b[0m\u001b[0;34m)\u001b[0m\u001b[0;34m\u001b[0m\u001b[0m\n\u001b[1;32m   6195\u001b[0m             \u001b[0mbin_range\u001b[0m \u001b[0;34m=\u001b[0m \u001b[0;34m(\u001b[0m\u001b[0mxmin\u001b[0m\u001b[0;34m,\u001b[0m \u001b[0mxmax\u001b[0m\u001b[0;34m)\u001b[0m\u001b[0;34m\u001b[0m\u001b[0m\n",
      "\u001b[0;31mTypeError\u001b[0m: invalid type promotion"
     ]
    }
   ],
   "source": [
    "#look at driver onboard date distribution\n",
    "\n",
    "#date_strings = [date.replace(' 00:00:00', '') for date in driver['driver_onboard_date']]\n",
    "#date_objects = [DT.datetime.strptime(date, '%Y-%m-%d') for date in date_strings]\n",
    "date_objects = driver['driver_onboard_date']\n",
    "\n",
    "#date_strings = set(date_strings)\n",
    "#date_obj_set = [DT.datetime.strptime(date, '%Y-%m-%d') for date in date_strings]\n",
    "#date_obj_set.sort()\n",
    "days = (max(driver['driver_onboard_date']) - min(driver['driver_onboard_date'])).days\n",
    "\n",
    "\n",
    "plt.rcParams[\"figure.figsize\"] = [50,20]\n",
    "plt.hist(date_objects, bins=days+1)\n",
    "\n",
    "plt.show()"
   ]
  },
  {
   "cell_type": "markdown",
   "metadata": {},
   "source": [
    "The data sample contains drivers onboarded between 2016-03-28 to 2016-05-15, the distribution is fairly uniform with weekly cyclic pattern "
   ]
  },
  {
   "cell_type": "code",
   "execution_count": 14,
   "metadata": {},
   "outputs": [
    {
     "data": {
      "text/html": [
       "<div>\n",
       "<style>\n",
       "    .dataframe thead tr:only-child th {\n",
       "        text-align: right;\n",
       "    }\n",
       "\n",
       "    .dataframe thead th {\n",
       "        text-align: left;\n",
       "    }\n",
       "\n",
       "    .dataframe tbody tr th {\n",
       "        vertical-align: top;\n",
       "    }\n",
       "</style>\n",
       "<table border=\"1\" class=\"dataframe\">\n",
       "  <thead>\n",
       "    <tr style=\"text-align: right;\">\n",
       "      <th></th>\n",
       "      <th>ride_distance</th>\n",
       "      <th>ride_duration</th>\n",
       "      <th>ride_prime_time</th>\n",
       "    </tr>\n",
       "  </thead>\n",
       "  <tbody>\n",
       "    <tr>\n",
       "      <th>count</th>\n",
       "      <td>193502.000000</td>\n",
       "      <td>193502.000000</td>\n",
       "      <td>193502.000000</td>\n",
       "    </tr>\n",
       "    <tr>\n",
       "      <th>mean</th>\n",
       "      <td>6955.218266</td>\n",
       "      <td>858.966099</td>\n",
       "      <td>17.305893</td>\n",
       "    </tr>\n",
       "    <tr>\n",
       "      <th>std</th>\n",
       "      <td>8929.444606</td>\n",
       "      <td>571.375818</td>\n",
       "      <td>30.825800</td>\n",
       "    </tr>\n",
       "    <tr>\n",
       "      <th>min</th>\n",
       "      <td>-2.000000</td>\n",
       "      <td>2.000000</td>\n",
       "      <td>0.000000</td>\n",
       "    </tr>\n",
       "    <tr>\n",
       "      <th>25%</th>\n",
       "      <td>2459.000000</td>\n",
       "      <td>491.000000</td>\n",
       "      <td>0.000000</td>\n",
       "    </tr>\n",
       "    <tr>\n",
       "      <th>50%</th>\n",
       "      <td>4015.000000</td>\n",
       "      <td>727.000000</td>\n",
       "      <td>0.000000</td>\n",
       "    </tr>\n",
       "    <tr>\n",
       "      <th>75%</th>\n",
       "      <td>7193.000000</td>\n",
       "      <td>1069.000000</td>\n",
       "      <td>25.000000</td>\n",
       "    </tr>\n",
       "    <tr>\n",
       "      <th>max</th>\n",
       "      <td>724679.000000</td>\n",
       "      <td>28204.000000</td>\n",
       "      <td>500.000000</td>\n",
       "    </tr>\n",
       "  </tbody>\n",
       "</table>\n",
       "</div>"
      ],
      "text/plain": [
       "       ride_distance  ride_duration  ride_prime_time\n",
       "count  193502.000000  193502.000000    193502.000000\n",
       "mean     6955.218266     858.966099        17.305893\n",
       "std      8929.444606     571.375818        30.825800\n",
       "min        -2.000000       2.000000         0.000000\n",
       "25%      2459.000000     491.000000         0.000000\n",
       "50%      4015.000000     727.000000         0.000000\n",
       "75%      7193.000000    1069.000000        25.000000\n",
       "max    724679.000000   28204.000000       500.000000"
      ]
     },
     "execution_count": 14,
     "metadata": {},
     "output_type": "execute_result"
    }
   ],
   "source": [
    "#import ride data and check summary\n",
    "ride = pd.read_csv('ride_ids.csv')\n",
    "ride.describe()"
   ]
  },
  {
   "cell_type": "markdown",
   "metadata": {},
   "source": [
    "There are records showing negative ride distance, it's probably due to data tracking error which need to be removed"
   ]
  },
  {
   "cell_type": "code",
   "execution_count": 24,
   "metadata": {},
   "outputs": [
    {
     "data": {
      "text/plain": [
       "driver_id          0\n",
       "ride_id            0\n",
       "ride_distance      0\n",
       "ride_duration      0\n",
       "ride_prime_time    0\n",
       "dtype: int64"
      ]
     },
     "execution_count": 24,
     "metadata": {},
     "output_type": "execute_result"
    }
   ],
   "source": [
    "#check missing value\n",
    "ride.isnull().sum()"
   ]
  },
  {
   "cell_type": "code",
   "execution_count": 25,
   "metadata": {},
   "outputs": [
    {
     "data": {
      "text/html": [
       "<div>\n",
       "<style>\n",
       "    .dataframe thead tr:only-child th {\n",
       "        text-align: right;\n",
       "    }\n",
       "\n",
       "    .dataframe thead th {\n",
       "        text-align: left;\n",
       "    }\n",
       "\n",
       "    .dataframe tbody tr th {\n",
       "        vertical-align: top;\n",
       "    }\n",
       "</style>\n",
       "<table border=\"1\" class=\"dataframe\">\n",
       "  <thead>\n",
       "    <tr style=\"text-align: right;\">\n",
       "      <th></th>\n",
       "      <th>ride_distance</th>\n",
       "      <th>ride_duration</th>\n",
       "      <th>ride_prime_time</th>\n",
       "    </tr>\n",
       "  </thead>\n",
       "  <tbody>\n",
       "    <tr>\n",
       "      <th>count</th>\n",
       "      <td>193315.000000</td>\n",
       "      <td>193315.000000</td>\n",
       "      <td>193315.000000</td>\n",
       "    </tr>\n",
       "    <tr>\n",
       "      <th>mean</th>\n",
       "      <td>6961.946290</td>\n",
       "      <td>859.633965</td>\n",
       "      <td>17.311254</td>\n",
       "    </tr>\n",
       "    <tr>\n",
       "      <th>std</th>\n",
       "      <td>8931.140532</td>\n",
       "      <td>571.122920</td>\n",
       "      <td>30.832015</td>\n",
       "    </tr>\n",
       "    <tr>\n",
       "      <th>min</th>\n",
       "      <td>1.000000</td>\n",
       "      <td>2.000000</td>\n",
       "      <td>0.000000</td>\n",
       "    </tr>\n",
       "    <tr>\n",
       "      <th>25%</th>\n",
       "      <td>2463.000000</td>\n",
       "      <td>492.000000</td>\n",
       "      <td>0.000000</td>\n",
       "    </tr>\n",
       "    <tr>\n",
       "      <th>50%</th>\n",
       "      <td>4020.000000</td>\n",
       "      <td>727.000000</td>\n",
       "      <td>0.000000</td>\n",
       "    </tr>\n",
       "    <tr>\n",
       "      <th>75%</th>\n",
       "      <td>7197.500000</td>\n",
       "      <td>1069.000000</td>\n",
       "      <td>25.000000</td>\n",
       "    </tr>\n",
       "    <tr>\n",
       "      <th>max</th>\n",
       "      <td>724679.000000</td>\n",
       "      <td>28204.000000</td>\n",
       "      <td>500.000000</td>\n",
       "    </tr>\n",
       "  </tbody>\n",
       "</table>\n",
       "</div>"
      ],
      "text/plain": [
       "       ride_distance  ride_duration  ride_prime_time\n",
       "count  193315.000000  193315.000000    193315.000000\n",
       "mean     6961.946290     859.633965        17.311254\n",
       "std      8931.140532     571.122920        30.832015\n",
       "min         1.000000       2.000000         0.000000\n",
       "25%      2463.000000     492.000000         0.000000\n",
       "50%      4020.000000     727.000000         0.000000\n",
       "75%      7197.500000    1069.000000        25.000000\n",
       "max    724679.000000   28204.000000       500.000000"
      ]
     },
     "execution_count": 25,
     "metadata": {},
     "output_type": "execute_result"
    }
   ],
   "source": [
    "#remove the records with negative ride distince \n",
    "ride = ride [ride['ride_distance']>0]\n",
    "ride.describe()"
   ]
  },
  {
   "cell_type": "code",
   "execution_count": 26,
   "metadata": {},
   "outputs": [
    {
     "data": {
      "text/html": [
       "<div>\n",
       "<style>\n",
       "    .dataframe thead tr:only-child th {\n",
       "        text-align: right;\n",
       "    }\n",
       "\n",
       "    .dataframe thead th {\n",
       "        text-align: left;\n",
       "    }\n",
       "\n",
       "    .dataframe tbody tr th {\n",
       "        vertical-align: top;\n",
       "    }\n",
       "</style>\n",
       "<table border=\"1\" class=\"dataframe\">\n",
       "  <thead>\n",
       "    <tr style=\"text-align: right;\">\n",
       "      <th></th>\n",
       "      <th>ride_id</th>\n",
       "      <th>event</th>\n",
       "      <th>timestamp</th>\n",
       "    </tr>\n",
       "  </thead>\n",
       "  <tbody>\n",
       "    <tr>\n",
       "      <th>count</th>\n",
       "      <td>970405</td>\n",
       "      <td>970405</td>\n",
       "      <td>970404</td>\n",
       "    </tr>\n",
       "    <tr>\n",
       "      <th>unique</th>\n",
       "      <td>194081</td>\n",
       "      <td>5</td>\n",
       "      <td>865826</td>\n",
       "    </tr>\n",
       "    <tr>\n",
       "      <th>top</th>\n",
       "      <td>51b44538f52ef231421b782e947b0b67</td>\n",
       "      <td>arrived_at</td>\n",
       "      <td>2016-04-30 22:09:15</td>\n",
       "    </tr>\n",
       "    <tr>\n",
       "      <th>freq</th>\n",
       "      <td>5</td>\n",
       "      <td>194081</td>\n",
       "      <td>7</td>\n",
       "    </tr>\n",
       "  </tbody>\n",
       "</table>\n",
       "</div>"
      ],
      "text/plain": [
       "                                 ride_id       event            timestamp\n",
       "count                             970405      970405               970404\n",
       "unique                            194081           5               865826\n",
       "top     51b44538f52ef231421b782e947b0b67  arrived_at  2016-04-30 22:09:15\n",
       "freq                                   5      194081                    7"
      ]
     },
     "execution_count": 26,
     "metadata": {},
     "output_type": "execute_result"
    }
   ],
   "source": [
    "#import ride ts data\n",
    "ride_ts = pd.read_csv('ride_timestamps.csv')\n",
    "ride_ts.describe()"
   ]
  },
  {
   "cell_type": "code",
   "execution_count": 29,
   "metadata": {},
   "outputs": [
    {
     "data": {
      "text/plain": [
       "ride_id      0\n",
       "event        0\n",
       "timestamp    1\n",
       "dtype: int64"
      ]
     },
     "execution_count": 29,
     "metadata": {},
     "output_type": "execute_result"
    }
   ],
   "source": [
    "#missing value?\n",
    "ride_ts.isnull().sum()"
   ]
  },
  {
   "cell_type": "code",
   "execution_count": 42,
   "metadata": {},
   "outputs": [
    {
     "data": {
      "text/html": [
       "<div>\n",
       "<style>\n",
       "    .dataframe thead tr:only-child th {\n",
       "        text-align: right;\n",
       "    }\n",
       "\n",
       "    .dataframe thead th {\n",
       "        text-align: left;\n",
       "    }\n",
       "\n",
       "    .dataframe tbody tr th {\n",
       "        vertical-align: top;\n",
       "    }\n",
       "</style>\n",
       "<table border=\"1\" class=\"dataframe\">\n",
       "  <thead>\n",
       "    <tr style=\"text-align: right;\">\n",
       "      <th></th>\n",
       "      <th>ride_id</th>\n",
       "      <th>event</th>\n",
       "      <th>timestamp</th>\n",
       "    </tr>\n",
       "  </thead>\n",
       "  <tbody>\n",
       "    <tr>\n",
       "      <th>434222</th>\n",
       "      <td>72f0fa0bd86800e9da5c4dced32c8735</td>\n",
       "      <td>arrived_at</td>\n",
       "      <td>NaN</td>\n",
       "    </tr>\n",
       "  </tbody>\n",
       "</table>\n",
       "</div>"
      ],
      "text/plain": [
       "                                 ride_id       event timestamp\n",
       "434222  72f0fa0bd86800e9da5c4dced32c8735  arrived_at       NaN"
      ]
     },
     "execution_count": 42,
     "metadata": {},
     "output_type": "execute_result"
    }
   ],
   "source": [
    "#what's the missing value\n",
    "ride_ts[ride_ts.isnull().any(axis=1)]"
   ]
  },
  {
   "cell_type": "markdown",
   "metadata": {},
   "source": [
    "Since there is only one missing timestamp, we can do an imptation later to complete the data set"
   ]
  },
  {
   "cell_type": "code",
   "execution_count": 30,
   "metadata": {},
   "outputs": [
    {
     "data": {
      "text/html": [
       "<div>\n",
       "<style>\n",
       "    .dataframe thead tr:only-child th {\n",
       "        text-align: right;\n",
       "    }\n",
       "\n",
       "    .dataframe thead th {\n",
       "        text-align: left;\n",
       "    }\n",
       "\n",
       "    .dataframe tbody tr th {\n",
       "        vertical-align: top;\n",
       "    }\n",
       "</style>\n",
       "<table border=\"1\" class=\"dataframe\">\n",
       "  <thead>\n",
       "    <tr style=\"text-align: right;\">\n",
       "      <th></th>\n",
       "      <th>ride_id</th>\n",
       "      <th>event</th>\n",
       "      <th>timestamp</th>\n",
       "    </tr>\n",
       "  </thead>\n",
       "  <tbody>\n",
       "    <tr>\n",
       "      <th>count</th>\n",
       "      <td>194081.0</td>\n",
       "      <td>194081.0</td>\n",
       "      <td>194081.000000</td>\n",
       "    </tr>\n",
       "    <tr>\n",
       "      <th>mean</th>\n",
       "      <td>1.0</td>\n",
       "      <td>5.0</td>\n",
       "      <td>4.878391</td>\n",
       "    </tr>\n",
       "    <tr>\n",
       "      <th>std</th>\n",
       "      <td>0.0</td>\n",
       "      <td>0.0</td>\n",
       "      <td>0.329926</td>\n",
       "    </tr>\n",
       "    <tr>\n",
       "      <th>min</th>\n",
       "      <td>1.0</td>\n",
       "      <td>5.0</td>\n",
       "      <td>3.000000</td>\n",
       "    </tr>\n",
       "    <tr>\n",
       "      <th>25%</th>\n",
       "      <td>1.0</td>\n",
       "      <td>5.0</td>\n",
       "      <td>5.000000</td>\n",
       "    </tr>\n",
       "    <tr>\n",
       "      <th>50%</th>\n",
       "      <td>1.0</td>\n",
       "      <td>5.0</td>\n",
       "      <td>5.000000</td>\n",
       "    </tr>\n",
       "    <tr>\n",
       "      <th>75%</th>\n",
       "      <td>1.0</td>\n",
       "      <td>5.0</td>\n",
       "      <td>5.000000</td>\n",
       "    </tr>\n",
       "    <tr>\n",
       "      <th>max</th>\n",
       "      <td>1.0</td>\n",
       "      <td>5.0</td>\n",
       "      <td>5.000000</td>\n",
       "    </tr>\n",
       "  </tbody>\n",
       "</table>\n",
       "</div>"
      ],
      "text/plain": [
       "        ride_id     event      timestamp\n",
       "count  194081.0  194081.0  194081.000000\n",
       "mean        1.0       5.0       4.878391\n",
       "std         0.0       0.0       0.329926\n",
       "min         1.0       5.0       3.000000\n",
       "25%         1.0       5.0       5.000000\n",
       "50%         1.0       5.0       5.000000\n",
       "75%         1.0       5.0       5.000000\n",
       "max         1.0       5.0       5.000000"
      ]
     },
     "execution_count": 30,
     "metadata": {},
     "output_type": "execute_result"
    }
   ],
   "source": [
    "#data coherency check: to see if every ride has all 5 events\n",
    "events_per_ride = ride_ts.groupby(['ride_id']).nunique()\n",
    "events_per_ride.describe()"
   ]
  },
  {
   "cell_type": "markdown",
   "metadata": {},
   "source": [
    "Event type is coherent, all rides in here have 5 unique events and no duplication in ride id"
   ]
  },
  {
   "cell_type": "code",
   "execution_count": 45,
   "metadata": {},
   "outputs": [
    {
     "data": {
      "text/html": [
       "<div>\n",
       "<style>\n",
       "    .dataframe thead tr:only-child th {\n",
       "        text-align: right;\n",
       "    }\n",
       "\n",
       "    .dataframe thead th {\n",
       "        text-align: left;\n",
       "    }\n",
       "\n",
       "    .dataframe tbody tr th {\n",
       "        vertical-align: top;\n",
       "    }\n",
       "</style>\n",
       "<table border=\"1\" class=\"dataframe\">\n",
       "  <thead>\n",
       "    <tr style=\"text-align: right;\">\n",
       "      <th>event</th>\n",
       "      <th>accepted_at</th>\n",
       "      <th>arrived_at</th>\n",
       "      <th>dropped_off_at</th>\n",
       "      <th>picked_up_at</th>\n",
       "      <th>requested_at</th>\n",
       "    </tr>\n",
       "    <tr>\n",
       "      <th>ride_id</th>\n",
       "      <th></th>\n",
       "      <th></th>\n",
       "      <th></th>\n",
       "      <th></th>\n",
       "      <th></th>\n",
       "    </tr>\n",
       "  </thead>\n",
       "  <tbody>\n",
       "    <tr>\n",
       "      <th>00003037a262d9ee40e61b5c0718f7f0</th>\n",
       "      <td>2016-06-13 09:39:51</td>\n",
       "      <td>2016-06-13 09:44:31</td>\n",
       "      <td>2016-06-13 10:03:05</td>\n",
       "      <td>2016-06-13 09:44:33</td>\n",
       "      <td>2016-06-13 09:39:19</td>\n",
       "    </tr>\n",
       "    <tr>\n",
       "      <th>00005eae40882760d675da5effb89ae3</th>\n",
       "      <td>2016-05-14 05:23:25</td>\n",
       "      <td>2016-05-14 05:26:17</td>\n",
       "      <td>2016-05-14 05:34:17</td>\n",
       "      <td>2016-05-14 05:26:18</td>\n",
       "      <td>2016-05-14 05:23:21</td>\n",
       "    </tr>\n",
       "    <tr>\n",
       "      <th>000061d42cf29f73b591041d9a1b2973</th>\n",
       "      <td>2016-05-16 15:43:14</td>\n",
       "      <td>2016-05-16 15:47:29</td>\n",
       "      <td>2016-05-16 15:54:18</td>\n",
       "      <td>2016-05-16 15:47:32</td>\n",
       "      <td>2016-05-16 15:43:09</td>\n",
       "    </tr>\n",
       "    <tr>\n",
       "      <th>00006efeb0d5e3ccad7d921ddeee9900</th>\n",
       "      <td>2016-05-11 19:29:43</td>\n",
       "      <td>2016-05-11 19:35:11</td>\n",
       "      <td>2016-05-11 19:40:47</td>\n",
       "      <td>2016-05-11 19:35:15</td>\n",
       "      <td>2016-05-11 19:29:36</td>\n",
       "    </tr>\n",
       "    <tr>\n",
       "      <th>0000d9b24d8ccdd991b76258e616fa01</th>\n",
       "      <td>2016-04-26 18:12:15</td>\n",
       "      <td>2016-04-26 18:16:52</td>\n",
       "      <td>2016-04-26 18:24:14</td>\n",
       "      <td>2016-04-26 18:16:55</td>\n",
       "      <td>2016-04-26 18:11:38</td>\n",
       "    </tr>\n",
       "  </tbody>\n",
       "</table>\n",
       "</div>"
      ],
      "text/plain": [
       "event                                     accepted_at           arrived_at  \\\n",
       "ride_id                                                                      \n",
       "00003037a262d9ee40e61b5c0718f7f0  2016-06-13 09:39:51  2016-06-13 09:44:31   \n",
       "00005eae40882760d675da5effb89ae3  2016-05-14 05:23:25  2016-05-14 05:26:17   \n",
       "000061d42cf29f73b591041d9a1b2973  2016-05-16 15:43:14  2016-05-16 15:47:29   \n",
       "00006efeb0d5e3ccad7d921ddeee9900  2016-05-11 19:29:43  2016-05-11 19:35:11   \n",
       "0000d9b24d8ccdd991b76258e616fa01  2016-04-26 18:12:15  2016-04-26 18:16:52   \n",
       "\n",
       "event                                  dropped_off_at         picked_up_at  \\\n",
       "ride_id                                                                      \n",
       "00003037a262d9ee40e61b5c0718f7f0  2016-06-13 10:03:05  2016-06-13 09:44:33   \n",
       "00005eae40882760d675da5effb89ae3  2016-05-14 05:34:17  2016-05-14 05:26:18   \n",
       "000061d42cf29f73b591041d9a1b2973  2016-05-16 15:54:18  2016-05-16 15:47:32   \n",
       "00006efeb0d5e3ccad7d921ddeee9900  2016-05-11 19:40:47  2016-05-11 19:35:15   \n",
       "0000d9b24d8ccdd991b76258e616fa01  2016-04-26 18:24:14  2016-04-26 18:16:55   \n",
       "\n",
       "event                                    requested_at  \n",
       "ride_id                                                \n",
       "00003037a262d9ee40e61b5c0718f7f0  2016-06-13 09:39:19  \n",
       "00005eae40882760d675da5effb89ae3  2016-05-14 05:23:21  \n",
       "000061d42cf29f73b591041d9a1b2973  2016-05-16 15:43:09  \n",
       "00006efeb0d5e3ccad7d921ddeee9900  2016-05-11 19:29:36  \n",
       "0000d9b24d8ccdd991b76258e616fa01  2016-04-26 18:11:38  "
      ]
     },
     "execution_count": 45,
     "metadata": {},
     "output_type": "execute_result"
    }
   ],
   "source": [
    "#pivot ride_ts table to make it convenient for future merging with ride data\n",
    "ride_event = ride_ts.pivot(index='ride_id', columns='event', values='timestamp' )\n",
    "ride_event.head()"
   ]
  },
  {
   "cell_type": "code",
   "execution_count": 49,
   "metadata": {},
   "outputs": [
    {
     "data": {
      "text/html": [
       "<div>\n",
       "<style>\n",
       "    .dataframe thead tr:only-child th {\n",
       "        text-align: right;\n",
       "    }\n",
       "\n",
       "    .dataframe thead th {\n",
       "        text-align: left;\n",
       "    }\n",
       "\n",
       "    .dataframe tbody tr th {\n",
       "        vertical-align: top;\n",
       "    }\n",
       "</style>\n",
       "<table border=\"1\" class=\"dataframe\">\n",
       "  <thead>\n",
       "    <tr style=\"text-align: right;\">\n",
       "      <th>event</th>\n",
       "      <th>accepted_at</th>\n",
       "      <th>arrived_at</th>\n",
       "      <th>dropped_off_at</th>\n",
       "      <th>picked_up_at</th>\n",
       "      <th>requested_at</th>\n",
       "    </tr>\n",
       "  </thead>\n",
       "  <tbody>\n",
       "    <tr>\n",
       "      <th>count</th>\n",
       "      <td>194081</td>\n",
       "      <td>194080</td>\n",
       "      <td>194081</td>\n",
       "      <td>194081</td>\n",
       "      <td>194081</td>\n",
       "    </tr>\n",
       "    <tr>\n",
       "      <th>unique</th>\n",
       "      <td>190426</td>\n",
       "      <td>190526</td>\n",
       "      <td>190468</td>\n",
       "      <td>190524</td>\n",
       "      <td>190434</td>\n",
       "    </tr>\n",
       "    <tr>\n",
       "      <th>top</th>\n",
       "      <td>2016-06-02 16:00:22</td>\n",
       "      <td>2016-05-28 00:40:53</td>\n",
       "      <td>2016-06-03 18:59:26</td>\n",
       "      <td>2016-06-03 21:24:04</td>\n",
       "      <td>2016-05-06 20:39:08</td>\n",
       "    </tr>\n",
       "    <tr>\n",
       "      <th>freq</th>\n",
       "      <td>3</td>\n",
       "      <td>4</td>\n",
       "      <td>4</td>\n",
       "      <td>4</td>\n",
       "      <td>4</td>\n",
       "    </tr>\n",
       "    <tr>\n",
       "      <th>first</th>\n",
       "      <td>2016-03-28 05:48:23</td>\n",
       "      <td>2016-03-28 06:02:36</td>\n",
       "      <td>2016-03-28 06:37:51</td>\n",
       "      <td>2016-03-28 06:02:39</td>\n",
       "      <td>2016-03-28 05:48:18</td>\n",
       "    </tr>\n",
       "    <tr>\n",
       "      <th>last</th>\n",
       "      <td>2016-06-26 23:57:49</td>\n",
       "      <td>2016-06-27 00:02:03</td>\n",
       "      <td>2016-06-27 00:50:50</td>\n",
       "      <td>2016-06-27 00:02:06</td>\n",
       "      <td>2016-06-26 23:57:45</td>\n",
       "    </tr>\n",
       "  </tbody>\n",
       "</table>\n",
       "</div>"
      ],
      "text/plain": [
       "event           accepted_at           arrived_at       dropped_off_at  \\\n",
       "count                194081               194080               194081   \n",
       "unique               190426               190526               190468   \n",
       "top     2016-06-02 16:00:22  2016-05-28 00:40:53  2016-06-03 18:59:26   \n",
       "freq                      3                    4                    4   \n",
       "first   2016-03-28 05:48:23  2016-03-28 06:02:36  2016-03-28 06:37:51   \n",
       "last    2016-06-26 23:57:49  2016-06-27 00:02:03  2016-06-27 00:50:50   \n",
       "\n",
       "event          picked_up_at         requested_at  \n",
       "count                194081               194081  \n",
       "unique               190524               190434  \n",
       "top     2016-06-03 21:24:04  2016-05-06 20:39:08  \n",
       "freq                      4                    4  \n",
       "first   2016-03-28 06:02:39  2016-03-28 05:48:18  \n",
       "last    2016-06-27 00:02:06  2016-06-26 23:57:45  "
      ]
     },
     "execution_count": 49,
     "metadata": {},
     "output_type": "execute_result"
    }
   ],
   "source": [
    "ride_event['requested_at'] = pd.to_datetime(ride_event['requested_at'])\n",
    "ride_event['accepted_at'] = pd.to_datetime(ride_event['accepted_at'])\n",
    "ride_event['arrived_at'] = pd.to_datetime(ride_event['arrived_at'])\n",
    "ride_event['picked_up_at'] = pd.to_datetime(ride_event['picked_up_at'])\n",
    "ride_event['dropped_off_at'] = pd.to_datetime(ride_event['dropped_off_at'])\n",
    "ride_event.describe()"
   ]
  },
  {
   "cell_type": "code",
   "execution_count": 13,
   "metadata": {},
   "outputs": [
    {
     "data": {
      "text/html": [
       "<div>\n",
       "<style>\n",
       "    .dataframe thead tr:only-child th {\n",
       "        text-align: right;\n",
       "    }\n",
       "\n",
       "    .dataframe thead th {\n",
       "        text-align: left;\n",
       "    }\n",
       "\n",
       "    .dataframe tbody tr th {\n",
       "        vertical-align: top;\n",
       "    }\n",
       "</style>\n",
       "<table border=\"1\" class=\"dataframe\">\n",
       "  <thead>\n",
       "    <tr style=\"text-align: right;\">\n",
       "      <th></th>\n",
       "      <th>ride_id</th>\n",
       "      <th>event</th>\n",
       "      <th>timestamp</th>\n",
       "    </tr>\n",
       "  </thead>\n",
       "  <tbody>\n",
       "    <tr>\n",
       "      <th>count</th>\n",
       "      <td>194081</td>\n",
       "      <td>194081</td>\n",
       "      <td>194081</td>\n",
       "    </tr>\n",
       "    <tr>\n",
       "      <th>unique</th>\n",
       "      <td>194081</td>\n",
       "      <td>1</td>\n",
       "      <td>190468</td>\n",
       "    </tr>\n",
       "    <tr>\n",
       "      <th>top</th>\n",
       "      <td>51b44538f52ef231421b782e947b0b67</td>\n",
       "      <td>dropped_off_at</td>\n",
       "      <td>2016-06-03 18:59:26</td>\n",
       "    </tr>\n",
       "    <tr>\n",
       "      <th>freq</th>\n",
       "      <td>1</td>\n",
       "      <td>194081</td>\n",
       "      <td>4</td>\n",
       "    </tr>\n",
       "  </tbody>\n",
       "</table>\n",
       "</div>"
      ],
      "text/plain": [
       "                                 ride_id           event            timestamp\n",
       "count                             194081          194081               194081\n",
       "unique                            194081               1               190468\n",
       "top     51b44538f52ef231421b782e947b0b67  dropped_off_at  2016-06-03 18:59:26\n",
       "freq                                   1          194081                    4"
      ]
     },
     "execution_count": 13,
     "metadata": {},
     "output_type": "execute_result"
    }
   ],
   "source": [
    "#use drop off ts as the completion time\n",
    "ride_cmplt_ts = ride_ts[ride_ts['event']=='dropped_off_at']\n",
    "ride_cmplt_ts.describe("
   ]
  },
  {
   "cell_type": "code",
   "execution_count": 25,
   "metadata": {},
   "outputs": [
    {
     "data": {
      "text/plain": [
       "driver_id                 0\n",
       "driver_onboard_date    7611\n",
       "ride_id                  83\n",
       "ride_distance            83\n",
       "ride_duration            83\n",
       "ride_prime_time          83\n",
       "dtype: int64"
      ]
     },
     "execution_count": 25,
     "metadata": {},
     "output_type": "execute_result"
    }
   ],
   "source": [
    "ride = pd.read_csv('ride_ids.csv')\n",
    "\n",
    "driver_ride = pd.merge(driver, ride, how= 'outer', left_on='driver_id', right_on='driver_id')\n",
    "\n",
    "#driver_ride.isnull().sum()\n"
   ]
  },
  {
   "cell_type": "code",
   "execution_count": null,
   "metadata": {
    "collapsed": true
   },
   "outputs": [],
   "source": []
  },
  {
   "cell_type": "code",
   "execution_count": null,
   "metadata": {
    "collapsed": true
   },
   "outputs": [],
   "source": []
  }
 ],
 "metadata": {
  "kernelspec": {
   "display_name": "Python 2",
   "language": "python",
   "name": "python2"
  },
  "language_info": {
   "codemirror_mode": {
    "name": "ipython",
    "version": 2
   },
   "file_extension": ".py",
   "mimetype": "text/x-python",
   "name": "python",
   "nbconvert_exporter": "python",
   "pygments_lexer": "ipython2",
   "version": "2.7.14"
  }
 },
 "nbformat": 4,
 "nbformat_minor": 2
}
